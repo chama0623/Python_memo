{
 "cells": [
  {
   "cell_type": "code",
   "execution_count": 35,
   "id": "fb32f9c1-c172-4732-afa2-6d8debf42c4d",
   "metadata": {},
   "outputs": [],
   "source": [
    "from time import time\n",
    "import random\n",
    "import numpy as np"
   ]
  },
  {
   "cell_type": "markdown",
   "id": "ca751c91-d8e5-4772-a7e4-9c18f008a1d6",
   "metadata": {},
   "source": [
    "# Pythonのコードを速くするノート"
   ]
  },
  {
   "cell_type": "markdown",
   "id": "d173ac2f-5fae-46dd-b4e9-adbeec3a8876",
   "metadata": {},
   "source": [
    "## 1. リストの各要素に関数を実行する"
   ]
  },
  {
   "cell_type": "code",
   "execution_count": 31,
   "id": "e35ba3f5-7567-4d24-94d4-84c62f43fadd",
   "metadata": {},
   "outputs": [],
   "source": [
    "# 共通の処理\n",
    "def func(x):\n",
    "    return x**3\n",
    "\n",
    "n=100000\n",
    "num_list = [random.randint(0,100) for i in range(n)] # 0から100までの乱数をn個生成\n",
    "result=[]"
   ]
  },
  {
   "cell_type": "markdown",
   "id": "0f2f7a25-28f9-4419-ad9a-a8c6d602e10c",
   "metadata": {},
   "source": [
    "for文でインデックスを渡して各要素に対してfunc関数を適用した場合"
   ]
  },
  {
   "cell_type": "code",
   "execution_count": 28,
   "id": "274c67ac-6746-4405-a300-df3a7caba861",
   "metadata": {},
   "outputs": [
    {
     "name": "stdout",
     "output_type": "stream",
     "text": [
      "31.1 ms ± 484 µs per loop (mean ± std. dev. of 7 runs, 10 loops each)\n"
     ]
    }
   ],
   "source": [
    "%%timeit\n",
    "# for文でnum_listの各要素にfunc関数を実行\n",
    "for i in range(len(num_list)):\n",
    "    result.append(func(num_list[i]))"
   ]
  },
  {
   "cell_type": "markdown",
   "id": "bfb2e82e-1beb-44a9-8bd1-5301ba4101b0",
   "metadata": {},
   "source": [
    "for文でインデックスではなく値そのものを渡した場合"
   ]
  },
  {
   "cell_type": "code",
   "execution_count": 30,
   "id": "c53dcaa1-bfc3-4dc7-b713-3fe06f097426",
   "metadata": {},
   "outputs": [
    {
     "name": "stdout",
     "output_type": "stream",
     "text": [
      "28.5 ms ± 431 µs per loop (mean ± std. dev. of 7 runs, 10 loops each)\n"
     ]
    }
   ],
   "source": [
    "%%timeit\n",
    "# for文でインデックスではなく値そのものを渡した場合\n",
    "for num in num_list:\n",
    "    result.append(func(num))"
   ]
  },
  {
   "cell_type": "markdown",
   "id": "0f0d3187-a224-4259-89d2-2d5a20d1112c",
   "metadata": {},
   "source": [
    "リスト内包表記"
   ]
  },
  {
   "cell_type": "code",
   "execution_count": 34,
   "id": "95df3c6c-0d0f-4cae-86ec-d9fec959ea4e",
   "metadata": {},
   "outputs": [
    {
     "name": "stdout",
     "output_type": "stream",
     "text": [
      "24.7 ms ± 82.3 µs per loop (mean ± std. dev. of 7 runs, 10 loops each)\n"
     ]
    }
   ],
   "source": [
    "%%timeit\n",
    "result = [func(num) for num in num_list]"
   ]
  },
  {
   "cell_type": "markdown",
   "id": "57b441af-e1ea-4294-b17d-56a2241adf42",
   "metadata": {},
   "source": [
    "mapを使った場合  \n",
    "map(関数, リスト):第二引数のリストの各要素に第一引数の関数を適用する. 返り値はmapオブジェクトであるからlist()でリストに変換する.\n",
    "第一引数の関数が引数を2つ以上とるとき, map(関数, リスト1, リスト2, ...)のようにリストを複数あたえる."
   ]
  },
  {
   "cell_type": "code",
   "execution_count": 32,
   "id": "bd869c5a-8a1a-4b14-9e49-c367b7c332be",
   "metadata": {},
   "outputs": [
    {
     "name": "stdout",
     "output_type": "stream",
     "text": [
      "22 ms ± 112 µs per loop (mean ± std. dev. of 7 runs, 10 loops each)\n"
     ]
    }
   ],
   "source": [
    "%%timeit\n",
    "result = list(map(func, num_list))"
   ]
  },
  {
   "cell_type": "markdown",
   "id": "5ee4821a-5a5c-447d-9a84-10211bca04d6",
   "metadata": {},
   "source": [
    "## 2. リストの各要素にメソッドを実行する"
   ]
  },
  {
   "cell_type": "code",
   "execution_count": 49,
   "id": "dd0f61dd-f8db-455c-ae8d-d2a8e05ca3a2",
   "metadata": {},
   "outputs": [],
   "source": [
    "size=10\n",
    "n=100\n",
    "array_list = [np.random.randint(0,1000,(size,size)) for _ in range(n)]\n",
    "result = []"
   ]
  },
  {
   "cell_type": "markdown",
   "id": "6252ff39-2350-4dac-916b-09284c70967a",
   "metadata": {},
   "source": [
    "for文でインデックスを渡して各要素に対してreshape(-1,1)を適用した場合"
   ]
  },
  {
   "cell_type": "code",
   "execution_count": 47,
   "id": "4ae9c9cf-b6c5-4ad0-85a3-2dfb787ff9a1",
   "metadata": {},
   "outputs": [
    {
     "name": "stdout",
     "output_type": "stream",
     "text": [
      "32.2 µs ± 2.61 µs per loop (mean ± std. dev. of 7 runs, 10,000 loops each)\n"
     ]
    }
   ],
   "source": [
    "%%timeit\n",
    "for i in range(len(array_list)):\n",
    "    result.append(array_list[i].reshape(-1,1))"
   ]
  },
  {
   "cell_type": "markdown",
   "id": "fcdff83e-7e13-42f7-98e0-6784c56042a3",
   "metadata": {},
   "source": [
    "for文でインデックスではなく値そのものを渡した場合"
   ]
  },
  {
   "cell_type": "code",
   "execution_count": 50,
   "id": "92e9560f-8b52-440f-a5fe-28cecef639cb",
   "metadata": {},
   "outputs": [
    {
     "name": "stdout",
     "output_type": "stream",
     "text": [
      "29 µs ± 1.75 µs per loop (mean ± std. dev. of 7 runs, 10,000 loops each)\n"
     ]
    }
   ],
   "source": [
    "%%timeit\n",
    "for x in array_list:\n",
    "    result.append(x.reshape(-1,1))"
   ]
  },
  {
   "cell_type": "markdown",
   "id": "105426a8-73c9-427f-ac03-a73db2972b0a",
   "metadata": {},
   "source": [
    "リスト内包表記"
   ]
  },
  {
   "cell_type": "code",
   "execution_count": 52,
   "id": "c840244d-7af2-40b0-a5f4-74596e44870c",
   "metadata": {},
   "outputs": [
    {
     "name": "stdout",
     "output_type": "stream",
     "text": [
      "22.7 µs ± 278 ns per loop (mean ± std. dev. of 7 runs, 10,000 loops each)\n"
     ]
    }
   ],
   "source": [
    "%%timeit\n",
    "result = [x.reshape(-1,1) for x in array_list]"
   ]
  },
  {
   "cell_type": "markdown",
   "id": "f2a811e9-c63c-4e25-a967-31482d30f109",
   "metadata": {},
   "source": [
    "無名関数を用いた場合"
   ]
  },
  {
   "cell_type": "code",
   "execution_count": 54,
   "id": "a486d26d-925e-4ea4-b4bd-153edcb5f1e5",
   "metadata": {},
   "outputs": [
    {
     "name": "stdout",
     "output_type": "stream",
     "text": [
      "26.1 µs ± 99.5 ns per loop (mean ± std. dev. of 7 runs, 10,000 loops each)\n"
     ]
    }
   ],
   "source": [
    "%%timeit\n",
    "result =list(map(lambda x:x.reshape(-1,1),array_list))"
   ]
  },
  {
   "cell_type": "code",
   "execution_count": null,
   "id": "dba0a62f-138a-4bc4-be4c-5f368986c7b8",
   "metadata": {},
   "outputs": [],
   "source": []
  }
 ],
 "metadata": {
  "kernelspec": {
   "display_name": "Python 3 (ipykernel)",
   "language": "python",
   "name": "python3"
  },
  "language_info": {
   "codemirror_mode": {
    "name": "ipython",
    "version": 3
   },
   "file_extension": ".py",
   "mimetype": "text/x-python",
   "name": "python",
   "nbconvert_exporter": "python",
   "pygments_lexer": "ipython3",
   "version": "3.8.10"
  }
 },
 "nbformat": 4,
 "nbformat_minor": 5
}
