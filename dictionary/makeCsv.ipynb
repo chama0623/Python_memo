{
 "cells": [
  {
   "cell_type": "code",
   "execution_count": 1,
   "metadata": {},
   "outputs": [],
   "source": [
    "import numpy as np\n",
    "import scipy as sp\n",
    "import pandas as pd\n",
    "import random\n",
    "import string"
   ]
  },
  {
   "cell_type": "markdown",
   "metadata": {},
   "source": [
    "## make data \n",
    "Make data to practice python. n means sample size.  \n",
    "Colmun 'col1' is categorical data what elements are 0 or 1.  \n",
    "Column 'col2' is categorical data what elements are 'A','B' or 'C'.   \n",
    "Column 'col3' is continuous data whose range is from 0 to 100. Distribution is uniform.  \n",
    "Column 'col3' is continuous data whose distribution is gauss distribution. mu,sigma is parameter for gauss.   \n",
    "Column 'col4' is random string data whose len is defined by n_str."
   ]
  },
  {
   "cell_type": "code",
   "execution_count": 2,
   "metadata": {},
   "outputs": [],
   "source": [
    "def randomname(n):\n",
    "    return ''.join(random.choices(string.ascii_letters + string.digits, k=n))"
   ]
  },
  {
   "cell_type": "code",
   "execution_count": 6,
   "metadata": {},
   "outputs": [
    {
     "data": {
      "text/html": [
       "<div>\n",
       "<style scoped>\n",
       "    .dataframe tbody tr th:only-of-type {\n",
       "        vertical-align: middle;\n",
       "    }\n",
       "\n",
       "    .dataframe tbody tr th {\n",
       "        vertical-align: top;\n",
       "    }\n",
       "\n",
       "    .dataframe thead th {\n",
       "        text-align: right;\n",
       "    }\n",
       "</style>\n",
       "<table border=\"1\" class=\"dataframe\">\n",
       "  <thead>\n",
       "    <tr style=\"text-align: right;\">\n",
       "      <th></th>\n",
       "      <th>id</th>\n",
       "      <th>col1</th>\n",
       "      <th>col2</th>\n",
       "      <th>col3</th>\n",
       "      <th>col4</th>\n",
       "      <th>col5</th>\n",
       "      <th>Tag</th>\n",
       "    </tr>\n",
       "  </thead>\n",
       "  <tbody>\n",
       "    <tr>\n",
       "      <td>0</td>\n",
       "      <td>0</td>\n",
       "      <td>1</td>\n",
       "      <td>C</td>\n",
       "      <td>89.485</td>\n",
       "      <td>-1.940</td>\n",
       "      <td>wjuimn</td>\n",
       "      <td>0</td>\n",
       "    </tr>\n",
       "    <tr>\n",
       "      <td>0</td>\n",
       "      <td>1</td>\n",
       "      <td>0</td>\n",
       "      <td>B</td>\n",
       "      <td>94.973</td>\n",
       "      <td>-9.650</td>\n",
       "      <td>hjhnxe</td>\n",
       "      <td>1</td>\n",
       "    </tr>\n",
       "    <tr>\n",
       "      <td>0</td>\n",
       "      <td>2</td>\n",
       "      <td>0</td>\n",
       "      <td>C</td>\n",
       "      <td>53.303</td>\n",
       "      <td>-20.943</td>\n",
       "      <td>cphb7x</td>\n",
       "      <td>1</td>\n",
       "    </tr>\n",
       "    <tr>\n",
       "      <td>0</td>\n",
       "      <td>3</td>\n",
       "      <td>0</td>\n",
       "      <td>B</td>\n",
       "      <td>60.642</td>\n",
       "      <td>-7.787</td>\n",
       "      <td>hpy12i</td>\n",
       "      <td>0</td>\n",
       "    </tr>\n",
       "    <tr>\n",
       "      <td>0</td>\n",
       "      <td>4</td>\n",
       "      <td>1</td>\n",
       "      <td>B</td>\n",
       "      <td>41.745</td>\n",
       "      <td>18.649</td>\n",
       "      <td>u8bmzc</td>\n",
       "      <td>1</td>\n",
       "    </tr>\n",
       "  </tbody>\n",
       "</table>\n",
       "</div>"
      ],
      "text/plain": [
       "  id col1 col2    col3    col4    col5 Tag\n",
       "0  0    1    C  89.485  -1.940  wjuimn   0\n",
       "0  1    0    B  94.973  -9.650  hjhnxe   1\n",
       "0  2    0    C  53.303 -20.943  cphb7x   1\n",
       "0  3    0    B  60.642  -7.787  hpy12i   0\n",
       "0  4    1    B  41.745  18.649  u8bmzc   1"
      ]
     },
     "execution_count": 6,
     "metadata": {},
     "output_type": "execute_result"
    }
   ],
   "source": [
    "columns=['id','col1','col2','col3','col4','col5','Tag']\n",
    "df = pd.DataFrame(columns=columns)\n",
    "\n",
    "n = 40\n",
    "list1=['A','B','C']\n",
    "start,end=0,100\n",
    "mu,sigma=0,10\n",
    "n_str = 6\n",
    "\n",
    "for i in range(n):\n",
    "    tmp=[]\n",
    "    tmp.append(i)\n",
    "    tmp.append(random.randint(0,1))\n",
    "    tmp.append(random.choices(list1)[0])\n",
    "    tmp.append(round(random.uniform(0,100),3))\n",
    "    tmp.append(round(random.gauss(mu=mu,sigma=sigma),3))\n",
    "    tmp.append(randomname(n_str).lower())\n",
    "    tmp.append(random.randint(0,1))\n",
    "    tmp = pd.DataFrame(data =[tmp],columns=columns)\n",
    "    df = df.append(tmp)\n",
    "\n",
    "df.head()"
   ]
  },
  {
   "cell_type": "code",
   "execution_count": 7,
   "metadata": {},
   "outputs": [
    {
     "name": "stdout",
     "output_type": "stream",
     "text": [
      "<class 'pandas.core.frame.DataFrame'>\n",
      "Int64Index: 40 entries, 0 to 0\n",
      "Data columns (total 7 columns):\n",
      "id      40 non-null object\n",
      "col1    40 non-null object\n",
      "col2    40 non-null object\n",
      "col3    40 non-null float64\n",
      "col4    40 non-null float64\n",
      "col5    40 non-null object\n",
      "Tag     40 non-null object\n",
      "dtypes: float64(2), object(5)\n",
      "memory usage: 2.5+ KB\n"
     ]
    }
   ],
   "source": [
    "df.info()"
   ]
  },
  {
   "cell_type": "code",
   "execution_count": 8,
   "metadata": {},
   "outputs": [],
   "source": [
    "df.to_csv('./test.csv',index=False)"
   ]
  },
  {
   "cell_type": "code",
   "execution_count": null,
   "metadata": {},
   "outputs": [],
   "source": []
  }
 ],
 "metadata": {
  "kernelspec": {
   "display_name": "Python 3",
   "language": "python",
   "name": "python3"
  },
  "language_info": {
   "codemirror_mode": {
    "name": "ipython",
    "version": 3
   },
   "file_extension": ".py",
   "mimetype": "text/x-python",
   "name": "python",
   "nbconvert_exporter": "python",
   "pygments_lexer": "ipython3",
   "version": "3.6.8"
  },
  "toc": {
   "base_numbering": 1,
   "nav_menu": {},
   "number_sections": true,
   "sideBar": true,
   "skip_h1_title": false,
   "title_cell": "Table of Contents",
   "title_sidebar": "Contents",
   "toc_cell": false,
   "toc_position": {},
   "toc_section_display": true,
   "toc_window_display": false
  }
 },
 "nbformat": 4,
 "nbformat_minor": 2
}
